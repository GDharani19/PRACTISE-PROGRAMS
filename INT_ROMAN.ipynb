{
 "cells": [
  {
   "cell_type": "code",
   "execution_count": 4,
   "metadata": {},
   "outputs": [
    {
     "name": "stdout",
     "output_type": "stream",
     "text": [
      "MMMMDXXXVI\n",
      "DXXXVI\n"
     ]
    }
   ],
   "source": [
    "\n",
    "# python program to convert integer to roman number.\n",
    "\n",
    "\n",
    "def roman(num):\n",
    "\n",
    "    m=[\"\",\"M\",\"MM\",\"MMM\",\"MMMM\"]\n",
    "    c=[\"\",\"C\",\"CC\",\"CCC\",\"CD\",\"D\",\"DC\",\"DCC\",\"DCCC\",\"CM\"]\n",
    "    x=[\"\",\"X\",\"XX\",\"XXX\",\"XL\",\"L\",\"LX\",\"LXX\",\"LXXX\",\"XC\"]\n",
    "    i=[\"\",\"I\",\"II\",\"III\",\"IV\",\"V\",\"VI\",\"VII\",\"VIII\",\"IX\"]\n",
    "\n",
    "    thousands=m[num//1000]\n",
    "    hundreds=c[(num%1000)//100]\n",
    "    tens=x[(num%100)//10]\n",
    "    ones=i[num%10]\n",
    "\n",
    "    ans=(thousands+hundreds+tens+ones)\n",
    "    return ans\n",
    "\n",
    "num=4536\n",
    "num1=536\n",
    "print(roman(num))\n",
    "print(roman(num1))"
   ]
  },
  {
   "cell_type": "code",
   "execution_count": 12,
   "metadata": {},
   "outputs": [
    {
     "name": "stdout",
     "output_type": "stream",
     "text": [
      "five hundred and thirty six \n",
      "five hundred and fifty two \n"
     ]
    }
   ],
   "source": [
    "\n",
    "# python program to convert integer to words of a given number.\n",
    "\n",
    "\n",
    "\n",
    "def words(num):\n",
    "\n",
    "    tw=[\"\",\"one thousand\",\"two thousand\",\"three thousand\",\"four thousand\",\"five thousand\"]\n",
    "    hw=[\"\",\"one hundred \",\"two hundred \",\"three hundred \",\"four hundred \",\"five hundred \",\"six hundred \",\"seven hundred \",\"eight hundred \",\"nine hundred \"]\n",
    "    tew=[\"\",\"ten \",\"twenty \",\"thirty \",\"fourty \",\"fifty \",\"sixty \",\"seventy \",\"eighty \",\"ninety \"]\n",
    "    ow=[\"\",\"one \",\"two \",\"three \",\"four \",\"five \",\"six \",\"seven \",\"eight \",\"nine \"]\n",
    "\n",
    "    thousands=tw[num//1000]\n",
    "    hundreds=hw[(num%1000)//100]\n",
    "    tens=tew[(num%100)//10]\n",
    "    ones=ow[num%10]\n",
    "\n",
    "    ans=(thousands+hundreds+\"and \"+tens+ones)\n",
    "    return ans\n",
    "num=536\n",
    "num1=552\n",
    "print(words(num))\n",
    "print(words(num1))"
   ]
  },
  {
   "cell_type": "code",
   "execution_count": 69,
   "metadata": {},
   "outputs": [
    {
     "name": "stdout",
     "output_type": "stream",
     "text": [
      "Average of the elements in list 1.33\n"
     ]
    }
   ],
   "source": [
    "# python program to find the mean of the given elements.\n",
    "\n",
    "\n",
    "n=int(input(\"Enter the no.of elements to take the avg of:\"))\n",
    "l=[]\n",
    "\n",
    "for i in range(n,n+1):\n",
    "    ele=int(input(\"enter the element:\"))\n",
    "    l.append(ele)\n",
    "    #avg=sum(list(l))/n               \n",
    "print(\"Average of the elements in list\",round(avg,2))"
   ]
  },
  {
   "cell_type": "code",
   "execution_count": 22,
   "metadata": {},
   "outputs": [
    {
     "name": "stdout",
     "output_type": "stream",
     "text": [
      "The reverse of the given number is: 635\n",
      "The reverse of the given string is: inarahd\n"
     ]
    }
   ],
   "source": [
    "# Python program to reverse a number.\n",
    "\n",
    "num=536\n",
    "reverse=0\n",
    "while num:\n",
    "    res=num%10\n",
    "    reverse=reverse*10+res\n",
    "    num//=10\n",
    "print(\"The reverse of the given number is:\",reverse) \n",
    "\n",
    "\n",
    "# Python program to reverse a string.\n",
    "\n",
    "str=\"dharani\"\n",
    "print(\"The reverse of the given string is:\",str[::-1])"
   ]
  },
  {
   "cell_type": "code",
   "execution_count": 28,
   "metadata": {},
   "outputs": [
    {
     "name": "stdout",
     "output_type": "stream",
     "text": [
      "Original list: [1, 2, 3, 4, 5, 6, 7, 8]\n",
      "After the randomising the list: [4, 8, 3, 2, 7, 6, 5, 1]\n"
     ]
    }
   ],
   "source": [
    "# python program to randomise the elements in a list.\n",
    "\n",
    "import random\n",
    "l=[1,2,3,4,5,6,7,8]\n",
    "\n",
    "print(\"Original list:\",l)\n",
    "\n",
    "random.shuffle(l)\n",
    "\n",
    "print(\"After the randomising the list:\",l)"
   ]
  },
  {
   "cell_type": "code",
   "execution_count": 52,
   "metadata": {},
   "outputs": [
    {
     "name": "stdout",
     "output_type": "stream",
     "text": [
      "The given number 153 is an Armstrong number\n",
      "The given number 145 is not an Armstrong number\n"
     ]
    }
   ],
   "source": [
    "# python program for armstrong number.\n",
    "\n",
    "n=153\n",
    "m=n\n",
    "sum=0\n",
    "while n!=0:\n",
    "    res=n%10\n",
    "    sum=sum+(res**3) \n",
    "    n=n//10   \n",
    "if m==sum:    \n",
    "    print(\"The given number\",m,\"is an Armstrong number\")\n",
    "\n",
    "else:\n",
    "    print(\"The given number\",m,\"is not an Armstrong number\")  \n",
    "\n",
    "\n",
    "n=145\n",
    "m=n\n",
    "sum=0\n",
    "while n!=0:\n",
    "    res=n%10\n",
    "    sum=sum+(res**3) \n",
    "    n=n//10   \n",
    "if m==sum:    \n",
    "    print(\"The given number\",m,\"is an Armstrong number\")\n",
    "\n",
    "else:\n",
    "    print(\"The given number\",m,\"is not an Armstrong number\")  \n"
   ]
  },
  {
   "cell_type": "code",
   "execution_count": 63,
   "metadata": {},
   "outputs": [
    {
     "name": "stdout",
     "output_type": "stream",
     "text": [
      "The count of the numbers in a given number is : 8\n",
      "The length of a given string is : 7\n"
     ]
    }
   ],
   "source": [
    "# python program to count the numbers in a given number\n",
    "\n",
    "n=15367534\n",
    "count=0\n",
    "while n:\n",
    "    res=n%10\n",
    "    count+=1\n",
    "    n//=10\n",
    "print(\"The count of the numbers in a given number is :\",count)   \n",
    "\n",
    "\n",
    "n='dharani'\n",
    "res=len(n)\n",
    "print(\"The length of a given string is :\",res)"
   ]
  },
  {
   "cell_type": "code",
   "execution_count": 76,
   "metadata": {},
   "outputs": [
    {
     "name": "stdout",
     "output_type": "stream",
     "text": [
      "0 1 1 2 3 5 8 13 21 34 55 89 144 "
     ]
    }
   ],
   "source": [
    "\n",
    "# python program to print the fibinocci series.\n",
    "\n",
    "\n",
    "start=0\n",
    "end=10\n",
    "a=0\n",
    "b=1\n",
    "print(a,b,end=\" \")\n",
    "while start<=end:\n",
    "    c=a+b\n",
    "    print(c,end=\" \")\n",
    "    a=b\n",
    "    b=c\n",
    "    start+=1"
   ]
  },
  {
   "cell_type": "code",
   "execution_count": 33,
   "metadata": {},
   "outputs": [
    {
     "name": "stdout",
     "output_type": "stream",
     "text": [
      "1\n",
      "2\n",
      "3\n",
      "4\n",
      "6\n",
      "9\n",
      "12\n",
      "18\n",
      "____________________________________________________________\n",
      "1\n",
      "2\n",
      "3\n",
      "4\n",
      "6\n",
      "9\n",
      "12\n",
      "18\n",
      "55\n"
     ]
    }
   ],
   "source": [
    "# python program to print the factors of the given number.\n",
    "\n",
    "\n",
    "n=36\n",
    "start=1\n",
    "while start<n:\n",
    "    if n%start==0:\n",
    "        print(start)\n",
    "    start+=1 \n",
    "\n",
    "\n",
    "print(\"__\"*30)\n",
    "\n",
    "\n",
    "# python program to print the sum of the factors of the given number.\n",
    "\n",
    "n=36\n",
    "sum=0\n",
    "start=1\n",
    "while start<n:\n",
    "    if n%start==0:\n",
    "        sum+=start\n",
    "        print(start)\n",
    "    start+=1 \n",
    "print(sum)\n",
    "           "
   ]
  }
 ],
 "metadata": {
  "kernelspec": {
   "display_name": "Python 3",
   "language": "python",
   "name": "python3"
  },
  "language_info": {
   "codemirror_mode": {
    "name": "ipython",
    "version": 3
   },
   "file_extension": ".py",
   "mimetype": "text/x-python",
   "name": "python",
   "nbconvert_exporter": "python",
   "pygments_lexer": "ipython3",
   "version": "3.11.3"
  }
 },
 "nbformat": 4,
 "nbformat_minor": 2
}
